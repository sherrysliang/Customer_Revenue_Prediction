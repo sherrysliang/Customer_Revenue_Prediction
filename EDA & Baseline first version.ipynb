{
 "cells": [
  {
   "cell_type": "code",
   "execution_count": 98,
   "metadata": {},
   "outputs": [],
   "source": [
    "import pandas as pd\n",
    "import os\n",
    "import json\n",
    "from pandas.io.json import json_normalize #package for flattening json in pandas df\n",
    "from sklearn.preprocessing import LabelEncoder\n",
    "import lightgbm as lgb \n",
    "import numpy as np\n",
    "from sklearn.model_selection import train_test_split\n",
    "from sklearn.ensemble import RandomForestRegressor\n",
    "\n",
    "\n"
   ]
  },
  {
   "cell_type": "code",
   "execution_count": 2,
   "metadata": {},
   "outputs": [
    {
     "name": "stdout",
     "output_type": "stream",
     "text": [
      "['test.csv', 'train.csv', 'sample_submission.csv']\n"
     ]
    }
   ],
   "source": [
    "def load_df(csv_path='../data/train.csv', nrows=None):\n",
    "    JSON_COLUMNS = ['device', 'geoNetwork', 'totals', 'trafficSource']\n",
    "\n",
    "    df = pd.read_csv(csv_path, dtype={'fullVisitorId': 'str'}, nrows=nrows)\n",
    "\n",
    "    for column in JSON_COLUMNS:\n",
    "        df = df.join(pd.DataFrame(df.pop(column).apply(pd.io.json.loads).values.tolist(), index=df.index))\n",
    "    return df\n",
    "\n",
    "print(os.listdir(\"../data\"))"
   ]
  },
  {
   "cell_type": "code",
   "execution_count": 112,
   "metadata": {},
   "outputs": [],
   "source": [
    "train_df = load_df()\n",
    "test_df = load_df(csv_path = '../data/test.csv')"
   ]
  },
  {
   "cell_type": "code",
   "execution_count": 68,
   "metadata": {
    "collapsed": true
   },
   "outputs": [],
   "source": [
    "# list_of_totals = train_df_raw.totals.apply(json.loads)\n",
    "# # get all the keys for devices column\n",
    "# total_keys = list()\n",
    "# for metrics in list_of_totals:\n",
    "#     total_keys.extend(x for x in metrics.keys() if x not in total_keys)"
   ]
  },
  {
   "cell_type": "code",
   "execution_count": 113,
   "metadata": {
    "collapsed": true
   },
   "outputs": [],
   "source": [
    "drop_columns = list()\n",
    "dict_columns = list()\n",
    "for item in train_df.columns:\n",
    "    if str(type(train_df[item][0])) ==\"<class 'dict'>\":\n",
    "        dict_columns.append(item)\n",
    "        continue\n",
    "    if len(train_df[item].unique()) == 1:\n",
    "        drop_columns.append(item)\n",
    "        continue"
   ]
  },
  {
   "cell_type": "code",
   "execution_count": 114,
   "metadata": {},
   "outputs": [
    {
     "name": "stdout",
     "output_type": "stream",
     "text": [
      "18 1 50\n"
     ]
    }
   ],
   "source": [
    "print(len(drop_columns), len(dict_columns), len(train_df.columns))"
   ]
  },
  {
   "cell_type": "code",
   "execution_count": 115,
   "metadata": {
    "collapsed": true
   },
   "outputs": [],
   "source": [
    "def add_date_features(df):\n",
    "    df['date'] = df['date'].astype(str)\n",
    "    df[\"date\"] = df[\"date\"].apply(lambda x : x[:4] + \"-\" + x[4:6] + \"-\" + x[6:])\n",
    "    df[\"date\"] = pd.to_datetime(df[\"date\"])\n",
    "    \n",
    "    df[\"month\"]   = df['date'].dt.month\n",
    "    df[\"day\"]     = df['date'].dt.day\n",
    "    df[\"weekday\"] = df['date'].dt.weekday\n",
    "    return df "
   ]
  },
  {
   "cell_type": "code",
   "execution_count": 116,
   "metadata": {
    "collapsed": true
   },
   "outputs": [],
   "source": [
    "train_df = add_date_features(train_df)\n",
    "test_df = add_date_features(test_df)\n"
   ]
  },
  {
   "cell_type": "code",
   "execution_count": 117,
   "metadata": {
    "collapsed": true
   },
   "outputs": [],
   "source": [
    "def normalize_numerical_columns(df, isTrain = True):\n",
    "    df[\"hits\"] = df[\"hits\"].astype(float)\n",
    "    df[\"hits\"] = (df[\"hits\"] - min(df[\"hits\"])) / (max(df[\"hits\"]) - min(df[\"hits\"]))\n",
    "\n",
    "    df[\"pageviews\"] = df[\"pageviews\"].astype(float)\n",
    "    df[\"pageviews\"] = (df[\"pageviews\"] - min(df[\"pageviews\"])) / (max(df[\"pageviews\"]) - min(df[\"pageviews\"]))\n",
    "    \n",
    "    if isTrain:\n",
    "        df[\"transactionRevenue\"] = df[\"transactionRevenue\"].fillna(0.0)\n",
    "    return df "
   ]
  },
  {
   "cell_type": "code",
   "execution_count": 118,
   "metadata": {
    "collapsed": true
   },
   "outputs": [],
   "source": [
    "train_df = normalize_numerical_columns(train_df)\n",
    "test_df = normalize_numerical_columns(test_df, isTrain = False)"
   ]
  },
  {
   "cell_type": "code",
   "execution_count": 119,
   "metadata": {
    "collapsed": true
   },
   "outputs": [],
   "source": [
    "non_relevant = [\"visitNumber\", \"date\", \"fullVisitorId\", \"sessionId\", \"visitId\", \"visitStartTime\"]\n",
    "train_df = train_df.drop(non_relevant,axis=1)\n",
    "train_df = train_df.drop(drop_columns,axis=1)\n",
    "train_df = train_df.drop(dict_columns,axis=1)\n",
    "#test_df = test_df.drop(non_relevant,axis=1)\n",
    "test_df = test_df.drop(drop_columns,axis=1)\n",
    "test_df = test_df.drop(dict_columns,axis=1)"
   ]
  },
  {
   "cell_type": "code",
   "execution_count": 122,
   "metadata": {
    "collapsed": true
   },
   "outputs": [],
   "source": [
    "# https://www.kaggle.com/prashantkikani/teach-lightgbm-to-sum-predictions-fe\n",
    "def browser_mapping(x):\n",
    "    browsers = ['chrome','safari','firefox','internet explorer','edge','opera','coc coc','maxthon','iron']\n",
    "    if x in browsers:\n",
    "        return x.lower()\n",
    "    elif  ('android' in x) or ('samsung' in x) or ('mini' in x) or ('iphone' in x) or ('in-app' in x) or ('playstation' in x):\n",
    "        return 'mobile browser'\n",
    "    elif  ('mozilla' in x) or ('chrome' in x) or ('blackberry' in x) or ('nokia' in x) or ('browser' in x) or ('amazon' in x):\n",
    "        return 'mobile browser'\n",
    "    elif  ('lunascape' in x) or ('netscape' in x) or ('blackberry' in x) or ('konqueror' in x) or ('puffin' in x) or ('amazon' in x):\n",
    "        return 'mobile browser'\n",
    "    elif '(not set)' in x:\n",
    "        return x\n",
    "    else:\n",
    "        return 'others'\n",
    "    \n",
    "    \n",
    "def adcontents_mapping(x):\n",
    "    if  ('google' in x):\n",
    "        return 'google'\n",
    "    elif  ('placement' in x) | ('placememnt' in x):\n",
    "        return 'placement'\n",
    "    elif '(not set)' in x or 'nan' in x:\n",
    "        return x\n",
    "    elif 'ad' in x:\n",
    "        return 'ad'\n",
    "    else:\n",
    "        return 'others'\n",
    "    \n",
    "def source_mapping(x):\n",
    "    if  ('google' in x):\n",
    "        return 'google'\n",
    "    elif  ('youtube' in x):\n",
    "        return 'youtube'\n",
    "    elif '(not set)' in x or 'nan' in x:\n",
    "        return x\n",
    "    elif 'yahoo' in x:\n",
    "        return 'yahoo'\n",
    "    elif 'facebook' in x:\n",
    "        return 'facebook'\n",
    "    elif 'reddit' in x:\n",
    "        return 'reddit'\n",
    "    elif 'bing' in x:\n",
    "        return 'bing'\n",
    "    elif 'quora' in x:\n",
    "        return 'quora'\n",
    "    elif 'outlook' in x:\n",
    "        return 'outlook'\n",
    "    elif 'linkedin' in x:\n",
    "        return 'linkedin'\n",
    "    elif 'pinterest' in x:\n",
    "        return 'pinterest'\n",
    "    elif 'ask' in x:\n",
    "        return 'ask'\n",
    "    elif 'siliconvalley' in x:\n",
    "        return 'siliconvalley'\n",
    "    elif 'lunametrics' in x:\n",
    "        return 'lunametrics'\n",
    "    elif 'amazon' in x:\n",
    "        return 'amazon'\n",
    "    elif 'mysearch' in x:\n",
    "        return 'mysearch'\n",
    "    elif 'qiita' in x:\n",
    "        return 'qiita'\n",
    "    elif 'messenger' in x:\n",
    "        return 'messenger'\n",
    "    elif 'twitter' in x:\n",
    "        return 'twitter'\n",
    "    elif 't.co' in x:\n",
    "        return 't.co'\n",
    "    elif 'vk.com' in x:\n",
    "        return 'vk.com'\n",
    "    elif 'search' in x:\n",
    "        return 'search'\n",
    "    elif 'edu' in x:\n",
    "        return 'edu'\n",
    "    elif 'mail' in x:\n",
    "        return 'mail'\n",
    "    elif 'ad' in x:\n",
    "        return 'ad'\n",
    "    elif 'golang' in x:\n",
    "        return 'golang'\n",
    "    elif 'direct' in x:\n",
    "        return 'direct'\n",
    "    elif 'dealspotr' in x:\n",
    "        return 'dealspotr'\n",
    "    elif 'sashihara' in x:\n",
    "        return 'sashihara'\n",
    "    elif 'phandroid' in x:\n",
    "        return 'phandroid'\n",
    "    elif 'baidu' in x:\n",
    "        return 'baidu'\n",
    "    elif 'mdn' in x:\n",
    "        return 'mdn'\n",
    "    elif 'duckduckgo' in x:\n",
    "        return 'duckduckgo'\n",
    "    elif 'seroundtable' in x:\n",
    "        return 'seroundtable'\n",
    "    elif 'metrics' in x:\n",
    "        return 'metrics'\n",
    "    elif 'sogou' in x:\n",
    "        return 'sogou'\n",
    "    elif 'businessinsider' in x:\n",
    "        return 'businessinsider'\n",
    "    elif 'github' in x:\n",
    "        return 'github'\n",
    "    elif 'gophergala' in x:\n",
    "        return 'gophergala'\n",
    "    elif 'yandex' in x:\n",
    "        return 'yandex'\n",
    "    elif 'msn' in x:\n",
    "        return 'msn'\n",
    "    elif 'dfa' in x:\n",
    "        return 'dfa'\n",
    "    elif '(not set)' in x:\n",
    "        return '(not set)'\n",
    "    elif 'feedly' in x:\n",
    "        return 'feedly'\n",
    "    elif 'arstechnica' in x:\n",
    "        return 'arstechnica'\n",
    "    elif 'squishable' in x:\n",
    "        return 'squishable'\n",
    "    elif 'flipboard' in x:\n",
    "        return 'flipboard'\n",
    "    elif 't-online.de' in x:\n",
    "        return 't-online.de'\n",
    "    elif 'sm.cn' in x:\n",
    "        return 'sm.cn'\n",
    "    elif 'wow' in x:\n",
    "        return 'wow'\n",
    "    elif 'baidu' in x:\n",
    "        return 'baidu'\n",
    "    elif 'partners' in x:\n",
    "        return 'partners'\n",
    "    else:\n",
    "        return 'others'\n",
    "\n",
    "train_df['browser'] = train_df['browser'].map(lambda x:browser_mapping(str(x).lower())).astype('str')\n",
    "train_df['adContent'] = train_df['adContent'].map(lambda x:adcontents_mapping(str(x).lower())).astype('str')\n",
    "train_df['source'] = train_df['source'].map(lambda x:source_mapping(str(x).lower())).astype('str')\n",
    "\n",
    "test_df['browser'] = test_df['browser'].map(lambda x:browser_mapping(str(x).lower())).astype('str')\n",
    "test_df['adContent'] = test_df['adContent'].map(lambda x:adcontents_mapping(str(x).lower())).astype('str')\n",
    "test_df['source'] = test_df['source'].map(lambda x:source_mapping(str(x).lower())).astype('str')"
   ]
  },
  {
   "cell_type": "code",
   "execution_count": 76,
   "metadata": {},
   "outputs": [
    {
     "data": {
      "text/plain": [
       "['transactionRevenue', 'campaignCode']"
      ]
     },
     "execution_count": 76,
     "metadata": {},
     "output_type": "execute_result"
    }
   ],
   "source": [
    "[item for item in train_df.columns if item not in test_df.columns]"
   ]
  },
  {
   "cell_type": "code",
   "execution_count": 123,
   "metadata": {},
   "outputs": [],
   "source": [
    "train_df = train_df.drop(['campaignCode'], axis=1)"
   ]
  },
  {
   "cell_type": "code",
   "execution_count": 78,
   "metadata": {},
   "outputs": [],
   "source": [
    "numerical_lst =['hits', 'pageviews', 'transactionRevenue']\n",
    "categorical_columns = [c for c in train_df.columns if c not in numerical_lst]\n",
    "for c in categorical_columns:\n",
    "    le = LabelEncoder()\n",
    "    train_vals = list(train_df[c].values.astype(str))\n",
    "    test_vals = list(test_df[c].values.astype(str))\n",
    "    \n",
    "    le.fit(train_vals + test_vals)\n",
    "    \n",
    "    train_df[c] = le.transform(train_vals)\n",
    "    test_df[c] = le.transform(test_vals)\n",
    "# test_df.newVisits = test_df.newVisits.astype(float).fillna(-1)\n",
    "# train_df.newVisits = train_df.newVisits.astype(float).fillna(-1)\n",
    "# test_df.bounces = test_df.bounces.astype(float).fillna(-1)\n",
    "# train_df.bounces = train_df.bounces.astype(float).fillna(-1)"
   ]
  },
  {
   "cell_type": "code",
   "execution_count": 102,
   "metadata": {},
   "outputs": [
    {
     "data": {
      "text/plain": [
       "channelGrouping         0\n",
       "browser                 0\n",
       "deviceCategory          0\n",
       "isMobile                0\n",
       "operatingSystem         0\n",
       "city                    0\n",
       "continent               0\n",
       "country                 0\n",
       "metro                   0\n",
       "networkDomain           0\n",
       "region                  0\n",
       "subContinent            0\n",
       "bounces                 0\n",
       "hits                    0\n",
       "newVisits               0\n",
       "pageviews             100\n",
       "transactionRevenue      0\n",
       "adContent               0\n",
       "campaign                0\n",
       "isTrueDirect            0\n",
       "keyword                 0\n",
       "medium                  0\n",
       "referralPath            0\n",
       "source                  0\n",
       "month                   0\n",
       "day                     0\n",
       "weekday                 0\n",
       "dtype: int64"
      ]
     },
     "execution_count": 102,
     "metadata": {},
     "output_type": "execute_result"
    }
   ],
   "source": [
    "train_df.isnull().sum()"
   ]
  },
  {
   "cell_type": "code",
   "execution_count": 105,
   "metadata": {},
   "outputs": [],
   "source": [
    "train_df[\"transactionRevenue\"] = np.log1p(train_df[\"transactionRevenue\"].astype(float))\n",
    "train_x, valid_x, train_y, valid_y = train_test_split(train_df.drop([\"transactionRevenue\"], axis=1), train_df[\"transactionRevenue\"], test_size=0.25, random_state=2018)"
   ]
  },
  {
   "cell_type": "code",
   "execution_count": 111,
   "metadata": {},
   "outputs": [
    {
     "name": "stdout",
     "output_type": "stream",
     "text": [
      "Training until validation scores don't improve for 250 rounds.\n",
      "[20]\tvalid_0's rmse: 0.314869\n",
      "[40]\tvalid_0's rmse: 0.303543\n",
      "[60]\tvalid_0's rmse: 0.294854\n",
      "[80]\tvalid_0's rmse: 0.289309\n",
      "[100]\tvalid_0's rmse: 0.284371\n",
      "[120]\tvalid_0's rmse: 0.281038\n",
      "[140]\tvalid_0's rmse: 0.278446\n",
      "[160]\tvalid_0's rmse: 0.276388\n",
      "[180]\tvalid_0's rmse: 0.27485\n",
      "[200]\tvalid_0's rmse: 0.273719\n",
      "[220]\tvalid_0's rmse: 0.272806\n",
      "[240]\tvalid_0's rmse: 0.272179\n",
      "[260]\tvalid_0's rmse: 0.271605\n",
      "[280]\tvalid_0's rmse: 0.271201\n",
      "[300]\tvalid_0's rmse: 0.270846\n",
      "[320]\tvalid_0's rmse: 0.270552\n",
      "[340]\tvalid_0's rmse: 0.270268\n",
      "[360]\tvalid_0's rmse: 0.27005\n",
      "[380]\tvalid_0's rmse: 0.269827\n",
      "[400]\tvalid_0's rmse: 0.269646\n",
      "[420]\tvalid_0's rmse: 0.269512\n",
      "[440]\tvalid_0's rmse: 0.269401\n",
      "[460]\tvalid_0's rmse: 0.269289\n",
      "[480]\tvalid_0's rmse: 0.269184\n",
      "[500]\tvalid_0's rmse: 0.26911\n",
      "[520]\tvalid_0's rmse: 0.269038\n",
      "[540]\tvalid_0's rmse: 0.268968\n",
      "[560]\tvalid_0's rmse: 0.268906\n",
      "[580]\tvalid_0's rmse: 0.268863\n",
      "[600]\tvalid_0's rmse: 0.26879\n",
      "[620]\tvalid_0's rmse: 0.268735\n",
      "[640]\tvalid_0's rmse: 0.268682\n",
      "[660]\tvalid_0's rmse: 0.268635\n",
      "[680]\tvalid_0's rmse: 0.268581\n",
      "[700]\tvalid_0's rmse: 0.268566\n",
      "[720]\tvalid_0's rmse: 0.26852\n",
      "[740]\tvalid_0's rmse: 0.268488\n",
      "[760]\tvalid_0's rmse: 0.268486\n",
      "[780]\tvalid_0's rmse: 0.268485\n",
      "[800]\tvalid_0's rmse: 0.26848\n",
      "[820]\tvalid_0's rmse: 0.268478\n",
      "[840]\tvalid_0's rmse: 0.268485\n",
      "[860]\tvalid_0's rmse: 0.268488\n",
      "[880]\tvalid_0's rmse: 0.268466\n",
      "[900]\tvalid_0's rmse: 0.268466\n",
      "[920]\tvalid_0's rmse: 0.268464\n",
      "[940]\tvalid_0's rmse: 0.268453\n",
      "[960]\tvalid_0's rmse: 0.268444\n",
      "[980]\tvalid_0's rmse: 0.268433\n",
      "[1000]\tvalid_0's rmse: 0.26844\n",
      "[1020]\tvalid_0's rmse: 0.268461\n",
      "[1040]\tvalid_0's rmse: 0.268442\n",
      "[1060]\tvalid_0's rmse: 0.268442\n",
      "[1080]\tvalid_0's rmse: 0.268439\n",
      "[1100]\tvalid_0's rmse: 0.268444\n",
      "[1120]\tvalid_0's rmse: 0.268433\n",
      "[1140]\tvalid_0's rmse: 0.268446\n",
      "[1160]\tvalid_0's rmse: 0.26844\n",
      "[1180]\tvalid_0's rmse: 0.268462\n",
      "[1200]\tvalid_0's rmse: 0.26846\n",
      "[1220]\tvalid_0's rmse: 0.268491\n",
      "Early stopping, best iteration is:\n",
      "[972]\tvalid_0's rmse: 0.268425\n"
     ]
    }
   ],
   "source": [
    "lgb_params = {\"objective\" : \"regression\", \"metric\" : \"rmse\",\n",
    "              \"num_leaves\" : 80, \"learning_rate\" : 0.01, \n",
    "              \"bagging_fraction\" : 0.8, \"feature_fraction\" : 0.75, \"bagging_frequency\" : 10}\n",
    "    \n",
    "lgb_train = lgb.Dataset(train_x, label=train_y)\n",
    "lgb_val = lgb.Dataset(valid_x, label=valid_y)\n",
    "model = lgb.train(lgb_params, lgb_train, 1500, valid_sets=[lgb_val], early_stopping_rounds=250, verbose_eval=20)"
   ]
  },
  {
   "cell_type": "code",
   "execution_count": 104,
   "metadata": {},
   "outputs": [],
   "source": [
    "# clf = RandomForestRegressor()\n",
    "# clf.fit(train_x, train_y)\n",
    "train_df = train_df.fillna(0)\n",
    "test_df = test_df.fillna(0)"
   ]
  },
  {
   "cell_type": "code",
   "execution_count": 107,
   "metadata": {},
   "outputs": [
    {
     "data": {
      "text/html": [
       "<div>\n",
       "<style scoped>\n",
       "    .dataframe tbody tr th:only-of-type {\n",
       "        vertical-align: middle;\n",
       "    }\n",
       "\n",
       "    .dataframe tbody tr th {\n",
       "        vertical-align: top;\n",
       "    }\n",
       "\n",
       "    .dataframe thead th {\n",
       "        text-align: right;\n",
       "    }\n",
       "</style>\n",
       "<table border=\"1\" class=\"dataframe\">\n",
       "  <thead>\n",
       "    <tr style=\"text-align: right;\">\n",
       "      <th></th>\n",
       "      <th>fullVisitorId</th>\n",
       "      <th>PredictedLogRevenue</th>\n",
       "    </tr>\n",
       "  </thead>\n",
       "  <tbody>\n",
       "    <tr>\n",
       "      <th>0</th>\n",
       "      <td>0000000259678714014</td>\n",
       "      <td>0.036775</td>\n",
       "    </tr>\n",
       "    <tr>\n",
       "      <th>1</th>\n",
       "      <td>0000049363351866189</td>\n",
       "      <td>0.000000</td>\n",
       "    </tr>\n",
       "    <tr>\n",
       "      <th>2</th>\n",
       "      <td>0000053049821714864</td>\n",
       "      <td>0.000000</td>\n",
       "    </tr>\n",
       "    <tr>\n",
       "      <th>3</th>\n",
       "      <td>0000059488412965267</td>\n",
       "      <td>0.000000</td>\n",
       "    </tr>\n",
       "    <tr>\n",
       "      <th>4</th>\n",
       "      <td>0000085840370633780</td>\n",
       "      <td>0.005649</td>\n",
       "    </tr>\n",
       "  </tbody>\n",
       "</table>\n",
       "</div>"
      ],
      "text/plain": [
       "         fullVisitorId  PredictedLogRevenue\n",
       "0  0000000259678714014             0.036775\n",
       "1  0000049363351866189             0.000000\n",
       "2  0000053049821714864             0.000000\n",
       "3  0000059488412965267             0.000000\n",
       "4  0000085840370633780             0.005649"
      ]
     },
     "execution_count": 107,
     "metadata": {},
     "output_type": "execute_result"
    }
   ],
   "source": [
    "preds = model.predict(test_df[train_df.drop([\"transactionRevenue\"],axis =1).columns], num_iteration=model.best_iteration)\n",
    "test_df[\"PredictedLogRevenue\"] = np.expm1(preds)\n",
    "submission = test_df.groupby(\"fullVisitorId\").agg({\"PredictedLogRevenue\" : \"sum\"}).reset_index()\n",
    "submission[\"PredictedLogRevenue\"] = np.log1p(submission[\"PredictedLogRevenue\"])\n",
    "submission[\"PredictedLogRevenue\"] =  submission[\"PredictedLogRevenue\"].apply(lambda x : 0.0 if x <= 0 else x)\n",
    "submission = submission.fillna(0)\n",
    "submission.to_csv(\"baseline_3.csv\", index=False)\n",
    "submission.head()"
   ]
  },
  {
   "cell_type": "code",
   "execution_count": 43,
   "metadata": {},
   "outputs": [
    {
     "data": {
      "text/plain": [
       "Index(['channelGrouping', 'browser', 'deviceCategory', 'isMobile',\n",
       "       'operatingSystem', 'city', 'continent', 'country', 'metro',\n",
       "       'networkDomain', 'region', 'subContinent', 'bounces', 'hits',\n",
       "       'newVisits', 'pageviews', 'transactionRevenue', 'adContent', 'campaign',\n",
       "       'isTrueDirect', 'keyword', 'medium', 'referralPath', 'source', 'month',\n",
       "       'day', 'weekday'],\n",
       "      dtype='object')"
      ]
     },
     "execution_count": 43,
     "metadata": {},
     "output_type": "execute_result"
    }
   ],
   "source": [
    "train_df.columns"
   ]
  },
  {
   "cell_type": "code",
   "execution_count": 88,
   "metadata": {},
   "outputs": [
    {
     "data": {
      "text/plain": [
       "fullVisitorId          2269590319988525616\n",
       "PredictedLogRevenue                    NaN\n",
       "Name: 140007, dtype: object"
      ]
     },
     "execution_count": 88,
     "metadata": {},
     "output_type": "execute_result"
    }
   ],
   "source": [
    "submission.iloc[140007]"
   ]
  },
  {
   "cell_type": "code",
   "execution_count": 89,
   "metadata": {},
   "outputs": [
    {
     "data": {
      "text/plain": [
       "channelGrouping                                    4\n",
       "date                             2018-01-17 00:00:00\n",
       "fullVisitorId                     119947106824475886\n",
       "sessionId              119947106824475886_1516213080\n",
       "visitId                                   1516213080\n",
       "visitNumber                                        1\n",
       "visitStartTime                            1516213080\n",
       "browser                                           72\n",
       "deviceCategory                                     1\n",
       "isMobile                                           1\n",
       "operatingSystem                                   23\n",
       "city                                             955\n",
       "continent                                          2\n",
       "country                                          218\n",
       "metro                                            122\n",
       "networkDomain                                      0\n",
       "region                                           482\n",
       "subContinent                                      12\n",
       "bounces                                            0\n",
       "hits                                               0\n",
       "newVisits                                          0\n",
       "pageviews                                          0\n",
       "adContent                                         62\n",
       "campaign                                           4\n",
       "isTrueDirect                                       1\n",
       "keyword                                           11\n",
       "medium                                             5\n",
       "referralPath                                    3196\n",
       "source                                           208\n",
       "month                                              0\n",
       "day                                                8\n",
       "weekday                                            2\n",
       "PredictedLogRevenue                      -0.00410628\n",
       "Name: 14007, dtype: object"
      ]
     },
     "execution_count": 89,
     "metadata": {},
     "output_type": "execute_result"
    }
   ],
   "source": [
    "test_df.iloc[14007]"
   ]
  },
  {
   "cell_type": "code",
   "execution_count": 90,
   "metadata": {},
   "outputs": [
    {
     "data": {
      "text/plain": [
       "-0.0041147339184265854"
      ]
     },
     "execution_count": 90,
     "metadata": {},
     "output_type": "execute_result"
    }
   ],
   "source": [
    "np.log1p(-0.00410628)"
   ]
  },
  {
   "cell_type": "code",
   "execution_count": 92,
   "metadata": {},
   "outputs": [],
   "source": [
    "submission = submission.fillna(0)"
   ]
  },
  {
   "cell_type": "code",
   "execution_count": 93,
   "metadata": {},
   "outputs": [
    {
     "data": {
      "text/html": [
       "<div>\n",
       "<style scoped>\n",
       "    .dataframe tbody tr th:only-of-type {\n",
       "        vertical-align: middle;\n",
       "    }\n",
       "\n",
       "    .dataframe tbody tr th {\n",
       "        vertical-align: top;\n",
       "    }\n",
       "\n",
       "    .dataframe thead th {\n",
       "        text-align: right;\n",
       "    }\n",
       "</style>\n",
       "<table border=\"1\" class=\"dataframe\">\n",
       "  <thead>\n",
       "    <tr style=\"text-align: right;\">\n",
       "      <th></th>\n",
       "      <th>fullVisitorId</th>\n",
       "      <th>PredictedLogRevenue</th>\n",
       "    </tr>\n",
       "  </thead>\n",
       "  <tbody>\n",
       "    <tr>\n",
       "      <th>0</th>\n",
       "      <td>0000000259678714014</td>\n",
       "      <td>0.163213</td>\n",
       "    </tr>\n",
       "    <tr>\n",
       "      <th>1</th>\n",
       "      <td>0000049363351866189</td>\n",
       "      <td>0.000000</td>\n",
       "    </tr>\n",
       "    <tr>\n",
       "      <th>2</th>\n",
       "      <td>0000053049821714864</td>\n",
       "      <td>0.000000</td>\n",
       "    </tr>\n",
       "    <tr>\n",
       "      <th>3</th>\n",
       "      <td>0000059488412965267</td>\n",
       "      <td>0.000000</td>\n",
       "    </tr>\n",
       "    <tr>\n",
       "      <th>4</th>\n",
       "      <td>0000085840370633780</td>\n",
       "      <td>0.052515</td>\n",
       "    </tr>\n",
       "  </tbody>\n",
       "</table>\n",
       "</div>"
      ],
      "text/plain": [
       "         fullVisitorId  PredictedLogRevenue\n",
       "0  0000000259678714014             0.163213\n",
       "1  0000049363351866189             0.000000\n",
       "2  0000053049821714864             0.000000\n",
       "3  0000059488412965267             0.000000\n",
       "4  0000085840370633780             0.052515"
      ]
     },
     "execution_count": 93,
     "metadata": {},
     "output_type": "execute_result"
    }
   ],
   "source": [
    "submission.to_csv(\"baseline.csv\", index=False)\n",
    "submission.head()"
   ]
  },
  {
   "cell_type": "code",
   "execution_count": null,
   "metadata": {
    "collapsed": true
   },
   "outputs": [],
   "source": []
  }
 ],
 "metadata": {
  "kernelspec": {
   "display_name": "Python 3",
   "language": "python",
   "name": "python3"
  },
  "language_info": {
   "codemirror_mode": {
    "name": "ipython",
    "version": 3
   },
   "file_extension": ".py",
   "mimetype": "text/x-python",
   "name": "python",
   "nbconvert_exporter": "python",
   "pygments_lexer": "ipython3",
   "version": "3.5.5"
  }
 },
 "nbformat": 4,
 "nbformat_minor": 2
}
